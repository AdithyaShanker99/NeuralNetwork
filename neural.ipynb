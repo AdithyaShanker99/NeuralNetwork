{
 "cells": [
  {
   "cell_type": "code",
   "execution_count": 86,
   "metadata": {},
   "outputs": [],
   "source": [
    "import torch\n",
    "import torch.nn as nn\n",
    "import torch.nn.functional as F\n"
   ]
  },
  {
   "cell_type": "code",
   "execution_count": 87,
   "metadata": {},
   "outputs": [],
   "source": [
    "class Model(nn.Module):\n",
    "\n",
    "    def __init__(self, in_features=4, h1=8, h2=9, out_features=3) -> None:\n",
    "        super().__init__()\n",
    "        self.fc1 = nn.Linear(in_features,h1)\n",
    "        self.fc2 = nn.Linear(h1,h2)\n",
    "        self.out = nn.Linear(h2, out_features)\n",
    "\n",
    "    def forward(self, x):\n",
    "        x = F.relu(self.fc1(x))\n",
    "        x = F.relu(self.fc2(x))\n",
    "        x = self.out(x)\n",
    "\n",
    "        return x\n",
    "\n",
    "        "
   ]
  },
  {
   "cell_type": "code",
   "execution_count": 88,
   "metadata": {},
   "outputs": [],
   "source": [
    "torch.manual_seed(41)\n",
    "model = Model()"
   ]
  },
  {
   "cell_type": "code",
   "execution_count": 89,
   "metadata": {},
   "outputs": [],
   "source": [
    "import matplotlib.pyplot as pl\n",
    "import pandas as pd\n",
    "%matplotlib inline"
   ]
  },
  {
   "cell_type": "code",
   "execution_count": 90,
   "metadata": {},
   "outputs": [],
   "source": [
    "url = 'https://gist.githubusercontent.com/netj/8836201/raw/6f9306ad21398ea43cba4f7d537619d0e07d5ae3/iris.csv'\n",
    "df = pd.read_csv(url)\n"
   ]
  },
  {
   "cell_type": "code",
   "execution_count": 91,
   "metadata": {},
   "outputs": [
    {
     "data": {
      "text/html": [
       "<div>\n",
       "<style scoped>\n",
       "    .dataframe tbody tr th:only-of-type {\n",
       "        vertical-align: middle;\n",
       "    }\n",
       "\n",
       "    .dataframe tbody tr th {\n",
       "        vertical-align: top;\n",
       "    }\n",
       "\n",
       "    .dataframe thead th {\n",
       "        text-align: right;\n",
       "    }\n",
       "</style>\n",
       "<table border=\"1\" class=\"dataframe\">\n",
       "  <thead>\n",
       "    <tr style=\"text-align: right;\">\n",
       "      <th></th>\n",
       "      <th>sepal.length</th>\n",
       "      <th>sepal.width</th>\n",
       "      <th>petal.length</th>\n",
       "      <th>petal.width</th>\n",
       "      <th>variety</th>\n",
       "    </tr>\n",
       "  </thead>\n",
       "  <tbody>\n",
       "    <tr>\n",
       "      <th>0</th>\n",
       "      <td>5.1</td>\n",
       "      <td>3.5</td>\n",
       "      <td>1.4</td>\n",
       "      <td>0.2</td>\n",
       "      <td>Setosa</td>\n",
       "    </tr>\n",
       "    <tr>\n",
       "      <th>1</th>\n",
       "      <td>4.9</td>\n",
       "      <td>3.0</td>\n",
       "      <td>1.4</td>\n",
       "      <td>0.2</td>\n",
       "      <td>Setosa</td>\n",
       "    </tr>\n",
       "    <tr>\n",
       "      <th>2</th>\n",
       "      <td>4.7</td>\n",
       "      <td>3.2</td>\n",
       "      <td>1.3</td>\n",
       "      <td>0.2</td>\n",
       "      <td>Setosa</td>\n",
       "    </tr>\n",
       "    <tr>\n",
       "      <th>3</th>\n",
       "      <td>4.6</td>\n",
       "      <td>3.1</td>\n",
       "      <td>1.5</td>\n",
       "      <td>0.2</td>\n",
       "      <td>Setosa</td>\n",
       "    </tr>\n",
       "    <tr>\n",
       "      <th>4</th>\n",
       "      <td>5.0</td>\n",
       "      <td>3.6</td>\n",
       "      <td>1.4</td>\n",
       "      <td>0.2</td>\n",
       "      <td>Setosa</td>\n",
       "    </tr>\n",
       "    <tr>\n",
       "      <th>...</th>\n",
       "      <td>...</td>\n",
       "      <td>...</td>\n",
       "      <td>...</td>\n",
       "      <td>...</td>\n",
       "      <td>...</td>\n",
       "    </tr>\n",
       "    <tr>\n",
       "      <th>145</th>\n",
       "      <td>6.7</td>\n",
       "      <td>3.0</td>\n",
       "      <td>5.2</td>\n",
       "      <td>2.3</td>\n",
       "      <td>Virginica</td>\n",
       "    </tr>\n",
       "    <tr>\n",
       "      <th>146</th>\n",
       "      <td>6.3</td>\n",
       "      <td>2.5</td>\n",
       "      <td>5.0</td>\n",
       "      <td>1.9</td>\n",
       "      <td>Virginica</td>\n",
       "    </tr>\n",
       "    <tr>\n",
       "      <th>147</th>\n",
       "      <td>6.5</td>\n",
       "      <td>3.0</td>\n",
       "      <td>5.2</td>\n",
       "      <td>2.0</td>\n",
       "      <td>Virginica</td>\n",
       "    </tr>\n",
       "    <tr>\n",
       "      <th>148</th>\n",
       "      <td>6.2</td>\n",
       "      <td>3.4</td>\n",
       "      <td>5.4</td>\n",
       "      <td>2.3</td>\n",
       "      <td>Virginica</td>\n",
       "    </tr>\n",
       "    <tr>\n",
       "      <th>149</th>\n",
       "      <td>5.9</td>\n",
       "      <td>3.0</td>\n",
       "      <td>5.1</td>\n",
       "      <td>1.8</td>\n",
       "      <td>Virginica</td>\n",
       "    </tr>\n",
       "  </tbody>\n",
       "</table>\n",
       "<p>150 rows × 5 columns</p>\n",
       "</div>"
      ],
      "text/plain": [
       "     sepal.length  sepal.width  petal.length  petal.width    variety\n",
       "0             5.1          3.5           1.4          0.2     Setosa\n",
       "1             4.9          3.0           1.4          0.2     Setosa\n",
       "2             4.7          3.2           1.3          0.2     Setosa\n",
       "3             4.6          3.1           1.5          0.2     Setosa\n",
       "4             5.0          3.6           1.4          0.2     Setosa\n",
       "..            ...          ...           ...          ...        ...\n",
       "145           6.7          3.0           5.2          2.3  Virginica\n",
       "146           6.3          2.5           5.0          1.9  Virginica\n",
       "147           6.5          3.0           5.2          2.0  Virginica\n",
       "148           6.2          3.4           5.4          2.3  Virginica\n",
       "149           5.9          3.0           5.1          1.8  Virginica\n",
       "\n",
       "[150 rows x 5 columns]"
      ]
     },
     "execution_count": 91,
     "metadata": {},
     "output_type": "execute_result"
    }
   ],
   "source": [
    "df"
   ]
  },
  {
   "cell_type": "code",
   "execution_count": 92,
   "metadata": {},
   "outputs": [
    {
     "name": "stderr",
     "output_type": "stream",
     "text": [
      "/var/folders/sy/2jzm18gs78s48trcqgthb1xh0000gn/T/ipykernel_18360/886181633.py:3: FutureWarning: Downcasting behavior in `replace` is deprecated and will be removed in a future version. To retain the old behavior, explicitly call `result.infer_objects(copy=False)`. To opt-in to the future behavior, set `pd.set_option('future.no_silent_downcasting', True)`\n",
      "  df['variety'] = df['variety'].replace('Virginica', 2.0)\n"
     ]
    }
   ],
   "source": [
    "df['variety'] = df['variety'].replace('Setosa', 0.0)\n",
    "df['variety'] = df['variety'].replace('Versicolor', 1.0)\n",
    "df['variety'] = df['variety'].replace('Virginica', 2.0)\n",
    "\n",
    "\n"
   ]
  },
  {
   "cell_type": "code",
   "execution_count": 93,
   "metadata": {},
   "outputs": [],
   "source": [
    "features = df.drop('variety', axis=1)\n",
    "output = df['variety']\n"
   ]
  },
  {
   "cell_type": "code",
   "execution_count": 94,
   "metadata": {},
   "outputs": [],
   "source": [
    "features = features.values\n",
    "output = output.values"
   ]
  },
  {
   "cell_type": "code",
   "execution_count": 95,
   "metadata": {},
   "outputs": [],
   "source": [
    "from sklearn.model_selection import train_test_split\n"
   ]
  },
  {
   "cell_type": "code",
   "execution_count": 96,
   "metadata": {},
   "outputs": [],
   "source": [
    "X_train, X_test, Y_train, Y_test = train_test_split(features, output, test_size=0.2, random_state=41)\n"
   ]
  },
  {
   "cell_type": "code",
   "execution_count": 97,
   "metadata": {},
   "outputs": [],
   "source": [
    "X_train = torch.FloatTensor(X_train)\n",
    "\n",
    "X_test = torch.FloatTensor(X_test)\n",
    "\n",
    "Y_train = torch.LongTensor(Y_train)\n",
    "\n",
    "Y_test = torch.LongTensor(Y_test)\n",
    "\n"
   ]
  },
  {
   "cell_type": "code",
   "execution_count": 98,
   "metadata": {},
   "outputs": [],
   "source": [
    "criterion = nn.CrossEntropyLoss()\n",
    "\n",
    "optimizer = torch.optim.Adam(model.parameters(), lr = 0.01)"
   ]
  },
  {
   "cell_type": "code",
   "execution_count": 99,
   "metadata": {},
   "outputs": [
    {
     "name": "stdout",
     "output_type": "stream",
     "text": [
      "epoch 0 loss = 1.125203251838684\n",
      "epoch 10 loss = 1.0097211599349976\n",
      "epoch 20 loss = 0.8162347078323364\n",
      "epoch 30 loss = 0.585993230342865\n",
      "epoch 40 loss = 0.4003389775753021\n",
      "epoch 50 loss = 0.26794716715812683\n",
      "epoch 60 loss = 0.1796349734067917\n",
      "epoch 70 loss = 0.12165624648332596\n",
      "epoch 80 loss = 0.0860651433467865\n",
      "epoch 90 loss = 0.06522615253925323\n"
     ]
    }
   ],
   "source": [
    "import numpy\n",
    "epochs = 100\n",
    "losses = []\n",
    "\n",
    "for i in range(epochs) :\n",
    "    y_pred = model.forward(X_train)\n",
    "    loss = criterion(y_pred, Y_train)\n",
    "    losses.append(loss.detach().numpy())\n",
    "    if i%10 == 0 :\n",
    "        print(f'epoch {i} loss = {loss}')\n",
    "    optimizer.zero_grad()\n",
    "    loss.backward()\n",
    "    optimizer.step()\n",
    "\n",
    "\n",
    "\n"
   ]
  },
  {
   "cell_type": "code",
   "execution_count": 100,
   "metadata": {},
   "outputs": [
    {
     "data": {
      "text/plain": [
       "Text(0, 0.5, 'Epoch')"
      ]
     },
     "execution_count": 100,
     "metadata": {},
     "output_type": "execute_result"
    },
    {
     "data": {
      "image/png": "[encoded data removed]",
      "text/plain": [
       "<Figure size 640x480 with 1 Axes>"
      ]
     },
     "metadata": {},
     "output_type": "display_data"
    }
   ],
   "source": [
    "pl.plot(range(epochs), losses)\n",
    "pl.xlabel('loss')\n",
    "pl.ylabel('Epoch')"
   ]
  },
  {
   "cell_type": "code",
   "execution_count": 104,
   "metadata": {},
   "outputs": [],
   "source": [
    "with torch.no_grad():\n",
    "    y_eval = model.forward(X_test)\n",
    "    loss = criterion(y_eval, Y_test)"
   ]
  },
  {
   "cell_type": "code",
   "execution_count": 109,
   "metadata": {},
   "outputs": [
    {
     "name": "stdout",
     "output_type": "stream",
     "text": [
      "1.) tensor([-5.8771,  4.4629,  6.5155]) \t 2,2\n",
      "2.) tensor([-7.5451,  4.1668,  9.7293]) \t 2,2\n",
      "3.) tensor([-8.4517,  5.1275, 10.2015]) \t 2,2\n",
      "4.) tensor([-4.3411,  5.6280,  2.5636]) \t 1,1\n",
      "5.) tensor([-7.1838,  4.8757,  8.3023]) \t 2,2\n",
      "6.) tensor([-3.3940,  5.3421,  1.2802]) \t 1,1\n",
      "7.) tensor([-5.9240,  4.9826,  6.0025]) \t 2,2\n",
      "8.) tensor([-4.2895,  5.7016,  2.3920]) \t 1,1\n",
      "9.) tensor([-6.5369,  4.9261,  7.1291]) \t 2,2\n",
      "10.) tensor([-8.0526,  4.4129, 10.3325]) \t 2,2\n",
      "11.) tensor([-5.6774,  4.9505,  5.6248]) \t 2,2\n",
      "12.) tensor([ 4.5748, -2.2579, -2.8925]) \t 0,0\n",
      "13.) tensor([ 4.2646, -2.0055, -2.7342]) \t 0,0\n",
      "14.) tensor([-2.1081,  4.0482,  0.5803]) \t 1,1\n",
      "15.) tensor([ 3.4608, -1.2147, -2.3488]) \t 0,0\n",
      "16.) tensor([-5.4739,  5.1174,  5.0966]) \t 2,1\n",
      "17.) tensor([ 4.0637, -1.8045, -2.6504]) \t 0,0\n",
      "18.) tensor([-5.8090,  4.6057,  6.2494]) \t 1,2\n",
      "19.) tensor([ 4.9250, -2.5763, -3.0545]) \t 0,0\n",
      "20.) tensor([ 3.4559, -1.2559, -2.3637]) \t 0,0\n",
      "21.) tensor([-2.6161,  4.5584,  0.8575]) \t 1,1\n",
      "22.) tensor([-7.7427,  4.7379,  9.4233]) \t 2,2\n",
      "23.) tensor([ 3.5777, -1.3269, -2.4109]) \t 0,0\n",
      "24.) tensor([ 4.5445, -2.2478, -2.8698]) \t 0,0\n",
      "25.) tensor([-2.6548,  4.6138,  0.8825]) \t 1,1\n",
      "26.) tensor([-3.2832,  5.2189,  1.2163]) \t 1,1\n",
      "27.) tensor([-4.6527,  5.7790,  2.9302]) \t 1,1\n",
      "28.) tensor([-2.9436,  4.8858,  1.0381]) \t 1,1\n",
      "29.) tensor([ 4.5932, -2.2788, -2.8989]) \t 0,0\n",
      "30.) tensor([-4.5797,  5.4566,  3.1690]) \t 1,1\n",
      "28\n"
     ]
    }
   ],
   "source": [
    "correct = 0\n",
    "with torch.no_grad():\n",
    "    for i, data in enumerate(X_test): \n",
    "        y_val = model.forward(data)\n",
    "\n",
    "        print(f'{i+1}.) {str(y_val)} \\t {Y_test[i]},{y_val.argmax().item()}')\n",
    "\n",
    "        if(y_val.argmax().item() == Y_test[i]):\n",
    "            correct+=1\n",
    "print(f'{correct}')\n",
    "    "
   ]
  }
 ],
 "metadata": {
  "kernelspec": {
   "display_name": "base",
   "language": "python",
   "name": "python3"
  },
  "language_info": {
   "codemirror_mode": {
    "name": "ipython",
    "version": 3
   },
   "file_extension": ".py",
   "mimetype": "text/x-python",
   "name": "python",
   "nbconvert_exporter": "python",
   "pygments_lexer": "ipython3",
   "version": "3.10.9"
  }
 },
 "nbformat": 4,
 "nbformat_minor": 2
}
