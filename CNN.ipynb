{
        "cells": [
                {
                        "cell_type": "code",
                        "execution_count": 17,
                        "metadata": {},
                        "outputs": [],
                        "source": [
                                "import torch\n",
                                "import torch.nn as nn\n",
                                "import torch.nn.functional as F\n",
                                "import numpy as np\n",
                                "import matplotlib as plt\n",
                                "import torchvision.datasets.mnist as mnist\n",
                                "import torchvision as torchvision\n",
                                "        \n"
                        ]
                },
                {
                        "cell_type": "code",
                        "execution_count": 18,
                        "metadata": {},
                        "outputs": [],
                        "source": [
                                "class CNN(nn.Module):\n",
                                "\n",
                                "    def __init__(self, channels: int=1, classes: int = 10) -> None:\n",
                                "        super().__init__()\n",
                                "        self.conv1 = nn.Conv2d(channels,32,kernel_size=5)\n",
                                "        self.conv2 = nn.Conv2d(32,64,kernel_size=5)\n",
                                "        self.fc1 = nn.Linear(256, 126)\n",
                                "        self.out = nn.Linear(128,classes)\n",
                                "    \n",
                                "    def forward(self,x) :\n",
                                "        x = F.relu(F.max_pool2d(self.conv1(x),2))\n",
                                "        x = F.relu(F.max_pool2d(self.conv2(x),2))\n",
                                "        x = F.relu(self.conv2_drop(x))\n",
                                "        x = F.relu(self.fc1(x))\n",
                                "        x = self.out(x)\n",
                                "\n",
                                "\n",
                                "            \n",
                                "        "
                        ]
                },
                {
                        "cell_type": "code",
                        "execution_count": 19,
                        "metadata": {},
                        "outputs": [],
                        "source": [
                                "train_loader = torch.utils.data.DataLoader(\n",
                                "  torchvision.datasets.MNIST('/Users/adithyashanker/desktop/NeuralNetwork', train=True, download=True,\n",
                                "                             transform=torchvision.transforms.Compose([\n",
                                "                               torchvision.transforms.ToTensor(),\n",
                                "                               torchvision.transforms.Normalize(\n",
                                "                                 (0.1307,), (0.3081,))\n",
                                "                             ])),\n",
                                "  batch_size=1000, shuffle=True)\n",
                                "\n",
                                "test_loader = torch.utils.data.DataLoader(\n",
                                "  torchvision.datasets.MNIST('/Users/adithyashanker/desktop/NeuralNetwork', train=False, download=True,\n",
                                "                             transform=torchvision.transforms.Compose([\n",
                                "                               torchvision.transforms.ToTensor(),\n",
                                "                               torchvision.transforms.Normalize(\n",
                                "                                 (0.1307,), (0.3081,))\n",
                                "                             ])),\n",
                                "  batch_size=1000, shuffle=True)"
                        ]
                },
                {
                        "cell_type": "code",
                        "execution_count": 24,
                        "metadata": {},
                        "outputs": [
                                {
                                        "data": {
                                                "text/plain": [
                                                        "<torch.utils.data.dataloader.DataLoader at 0x7fb1754a1690>"
                                                ]
                                        },
                                        "execution_count": 24,
                                        "metadata": {},
                                        "output_type": "execute_result"
                                }
                        ],
                        "source": [
                                "plt."
                        ]
                },
                {
                        "cell_type": "code",
                        "execution_count": 20,
                        "metadata": {},
                        "outputs": [],
                        "source": [
                                "torch.manual_seed(41)\n",
                                "model = CNN()"
                        ]
                },
                {
                        "cell_type": "code",
                        "execution_count": 21,
                        "metadata": {},
                        "outputs": [],
                        "source": [
                                "from sklearn.model_selection import train_test_split\n"
                        ]
                },
                {
                        "cell_type": "code",
                        "execution_count": 23,
                        "metadata": {},
                        "outputs": [],
                        "source": [
                                "criterion = nn.CrossEntropyLoss()\n",
                                "optimizer = torch.optim.Adam(model.parameters(),lr=0.01 )"
                        ]
                },
                {
                        "cell_type": "code",
                        "execution_count": null,
                        "metadata": {},
                        "outputs": [],
                        "source": [
                                "epochs = 100 \n",
                                "losses = []\n",
                                "\n",
                                "for i in range(epochs) :\n",
                                "    y_pred = model.forward()"
                        ]
                }
        ],
        "metadata": {
                "kernelspec": {
                        "display_name": "base",
                        "language": "python",
                        "name": "python3"
                },
                "language_info": {
                        "codemirror_mode": {
                                "name": "ipython",
                                "version": 3
                        },
                        "file_extension": ".py",
                        "mimetype": "text/x-python",
                        "name": "python",
                        "nbconvert_exporter": "python",
                        "pygments_lexer": "ipython3",
                        "version": "3.10.9"
                }
        },
        "nbformat": 4,
        "nbformat_minor": 2
}
