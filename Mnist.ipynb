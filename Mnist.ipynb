{
 "cells": [
  {
   "cell_type": "code",
   "execution_count": 29,
   "metadata": {},
   "outputs": [],
   "source": [
    "import torch\n",
    "import torch.nn as nn\n",
    "import torch.nn.functional as F\n",
    "import torchvision\n",
    "import numpy as np\n",
    "import matplotlib.pyplot as plt\n",
    "%matplotlib inline\n",
    "from torch.utils.data import Subset\n",
    "\n",
    "\n"
   ]
  },
  {
   "cell_type": "code",
   "execution_count": null,
   "metadata": {},
   "outputs": [],
   "source": [
    "class Model(nn.Module):\n",
    "\n",
    "    def __init__(self) -> None:\n",
    "        super().__init__()\n",
    "        self.conv1 = nn.Conv2d(1,32,5)\n",
    "        self.pool = nn.MaxPool2d(2,2)\n",
    "        self.conv2 = nn.Conv2d(32,64,5)\n",
    "        self.fc1 = nn.Linear(1024, 120)\n",
    "        self.fc2 = nn.Linear(120,50)\n",
    "        self.out = nn.Linear(50,10)\n",
    "\n",
    "    def forward(self, x):\n",
    "        x = self.pool(F.relu(self.conv1(x)))\n",
    "        x = F.dropout2d(x, 0.3)\n",
    "        x = self.pool(F.relu(self.conv2(x)))\n",
    "        x = F.dropout2d(x, 0.3)\n",
    "        x = torch.flatten(x,1)\n",
    "        x = F.relu(self.fc1(x))\n",
    "        x = F.relu(self.fc2(x))\n",
    "        x = self.out(x)\n",
    "        return x\n",
    "\n",
    "\n"
   ]
  },
  {
   "cell_type": "code",
   "execution_count": 23,
   "metadata": {},
   "outputs": [
    {
     "name": "stdout",
     "output_type": "stream",
     "text": [
      "60000\n"
     ]
    }
   ],
   "source": [
    "dataset = torchvision.datasets.MNIST('/Users/adithyashanker/desktop/NeuralNetwork', train=True, download=True,\n",
    "                                     transform=torchvision.transforms.Compose([\n",
    "                                         torchvision.transforms.ToTensor(),\n",
    "                                         torchvision.transforms.Normalize((0.1307,), (0.3081,))\n",
    "                                     ]))\n",
    "\n",
    "testset = torchvision.datasets.MNIST('/Users/adithyashanker/desktop/NeuralNetwork', train=False, download=True,\n",
    "                                     transform=torchvision.transforms.Compose([\n",
    "                                         torchvision.transforms.ToTensor(),\n",
    "                                         torchvision.transforms.Normalize((0.1307,), (0.3081,))\n",
    "                                     ]))\n",
    "\n",
    "print(len(dataset))\n",
    "\n",
    "subset_indices = np.random.choice(len(dataset), size=30000, replace=False)  # e.g., 10,000 examples\n",
    "subset_dataset = Subset(dataset, subset_indices)\n",
    "\n",
    "testset_indices = np.random.choice(len(testset), size=10000, replace=False)  # e.g., 10,000 examples\n",
    "test_dataset = Subset(testset, testset_indices)\n",
    "\n",
    "train_loader = torch.utils.data.DataLoader(subset_dataset, batch_size=500, shuffle=True)\n",
    "test_loader = torch.utils.data.DataLoader(test_dataset, batch_size=500, shuffle=True)\n",
    "\n",
    "\n",
    "\n"
   ]
  },
  {
   "cell_type": "code",
   "execution_count": null,
   "metadata": {},
   "outputs": [],
   "source": [
    "model = Model()"
   ]
  },
  {
   "cell_type": "code",
   "execution_count": null,
   "metadata": {},
   "outputs": [],
   "source": [
    "criterion = nn.CrossEntropyLoss()\n",
    "optimizer = torch.optim.SGD(model.parameters(), lr = 0.011)"
   ]
  },
  {
   "cell_type": "code",
   "execution_count": null,
   "metadata": {},
   "outputs": [],
   "source": [
    "epochs = 100\n",
    "losses = []\n",
    "\n",
    "#  y_pred = model.forward(X_train)\n",
    "#     loss = criterion(y_pred, Y_train)\n",
    "#     losses.append(loss.detach().numpy())\n",
    "    # if i%10 == 0 :\n",
    "    #     print(f'epoch {i} loss = {loss}')\n",
    "#     optimizer.zero_grad()\n",
    "#     loss.backward()\n",
    "#     optimizer.step()\n",
    "\n",
    "for epoch in range(epochs) :\n",
    "    p = 0\n",
    "    for i, data in enumerate(train_loader, 0):\n",
    "        inputs, outputs = data\n",
    "        \n",
    "        # print(inputs)\n",
    "        # print(outputs)\n",
    "\n",
    "        y_pred = model.forward(inputs)\n",
    "        loss = criterion(y_pred, outputs)\n",
    "        losses.append(loss.detach().numpy())\n",
    "        if epoch%10 == 0 and p == 0 :\n",
    "            print(f'epoch {epoch} loss = {loss}')\n",
    "            p = 1\n",
    "        optimizer.zero_grad()\n",
    "        loss.backward()\n",
    "        optimizer.step()\n",
    "\n",
    "\n",
    "\n",
    "    "
   ]
  },
  {
   "cell_type": "code",
   "execution_count": 41,
   "metadata": {},
   "outputs": [],
   "source": [
    "with torch.no_grad():\n",
    "    for i, data in enumerate(test_loader):\n",
    "        xTest, yTest = data\n",
    "        y_eval = model.forward(xTest)\n",
    "        loss = (criterion(y_eval, yTest))\n",
    "\n",
    "\n"
   ]
  },
  {
   "cell_type": "code",
   "execution_count": 42,
   "metadata": {},
   "outputs": [
    {
     "data": {
      "text/plain": [
       "tensor(0.0743)"
      ]
     },
     "execution_count": 42,
     "metadata": {},
     "output_type": "execute_result"
    }
   ],
   "source": [
    "loss"
   ]
  },
  {
   "cell_type": "code",
   "execution_count": 24,
   "metadata": {},
   "outputs": [
    {
     "name": "stdout",
     "output_type": "stream",
     "text": [
      "Correct Predictions: 9787\n"
     ]
    }
   ],
   "source": [
    "correct = 0\n",
    "model.eval() \n",
    "with torch.no_grad():\n",
    "    for i, data in enumerate(test_loader):\n",
    "        xTest, yTest = data\n",
    "        y_val = model(xTest)  \n",
    "        predicted_labels = y_val.argmax(dim=1)\n",
    "        correct += (predicted_labels == yTest).sum().item() \n",
    "\n",
    "        # for j in range(xTest.size(0)):\n",
    "        #     print(f'Input: {xTest[j]} Prediction: {predicted_labels[j]} Actual: {yTest[j]}')\n",
    "\n",
    "print(f'Correct Predictions: {correct}')\n",
    "\n",
    "           \n"
   ]
  },
  {
   "cell_type": "code",
   "execution_count": null,
   "metadata": {},
   "outputs": [],
   "source": [
    "losses[len(losses)-1]"
   ]
  },
  {
   "cell_type": "code",
   "execution_count": null,
   "metadata": {},
   "outputs": [],
   "source": [
    "torch.save(model, 'model.pth')\n"
   ]
  },
  {
   "cell_type": "code",
   "execution_count": 34,
   "metadata": {},
   "outputs": [
    {
     "data": {
      "text/plain": [
       "Text(0, 0.5, 'loss')"
      ]
     },
     "execution_count": 34,
     "metadata": {},
     "output_type": "execute_result"
    },
    {
     "data": {
      "image/png": "[encoded data removed]",
      "text/plain": [
       "<Figure size 640x480 with 1 Axes>"
      ]
     },
     "metadata": {},
     "output_type": "display_data"
    }
   ],
   "source": [
    "plt.plot(range(6000), losses)\n",
    "plt.xlabel('epoch')\n",
    "plt.ylabel('loss')"
   ]
  }
 ],
 "metadata": {
  "kernelspec": {
   "display_name": "base",
   "language": "python",
   "name": "python3"
  },
  "language_info": {
   "codemirror_mode": {
    "name": "ipython",
    "version": 3
   },
   "file_extension": ".py",
   "mimetype": "text/x-python",
   "name": "python",
   "nbconvert_exporter": "python",
   "pygments_lexer": "ipython3",
   "version": "3.10.9"
  }
 },
 "nbformat": 4,
 "nbformat_minor": 2
}
